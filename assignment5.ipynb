{
 "cells": [
  {
   "cell_type": "code",
   "execution_count": null,
   "id": "1c4db23d",
   "metadata": {},
   "outputs": [],
   "source": [
    "import pandas as pd\n",
    "\n",
    "# Loading the dataset into a dataframe\n",
    "data_frame = pd.read_csv('climate_action_data.csv')\n",
    "display(data_frame.head())"
   ]
  },
  {
   "cell_type": "code",
   "execution_count": null,
   "id": "03e33b0f",
   "metadata": {},
   "outputs": [],
   "source": [
    "# Checking for empty cells\n",
    "data_frame.isnull().sum()\n",
    "\n",
    "#Print data frame information\n",
    "print('\\nData frame information before cleaning')\n",
    "data_frame.info()\n"
   ]
  },
  {
   "cell_type": "code",
   "execution_count": null,
   "id": "be8c10da",
   "metadata": {},
   "outputs": [],
   "source": [
    "import pandas as pd\n",
    "import numpy as np\n",
    "\n",
    "#Loading the dataset into a dataframe\n",
    "data_frame = pd.read_csv(\"climate_action_data.csv\")\n",
    "\n",
    "# Rename columns for easier use\n",
    "data_frame.rename(columns={\n",
    "    'Soil_Moisture(%)': 'Soil_Moisture_Percent',\n",
    "    'Soil_pH': 'Soil_pH', # Already fine, but listed for clarity\n",
    "    'Temperature(C)': 'Temperature_Celsius',\n",
    "    'Humidity(%)': 'Humidity_Percent',\n",
    "    'Fertilizer_Recommended(kg/ha)': 'Fertilizer_Recommended_kg_per_ha',\n",
    "    'Irrigation_Recommended(mm)': 'Irrigation_Recommendation_mm'\n",
    "}, inplace=True)\n",
    "\n",
    "#Converting Date column to datetime objects, errors='coerce' turns unparseable dates into NaT\n",
    "data_frame['Date'] = pd.to_datetime(data_frame['Date'], errors='coerce')\n",
    "\n",
    "#These columns are supposed to be numeric but they are non\n",
    "cols_to_numeric = ['Soil_Moisture_Percent', 'Soil_pH','Temperature_Celsius',\n",
    "                  'Humidity_Percent', 'Fertilizer_Recommended_kg_per_ha', 'Irrigation_Recommendation_mm']\n",
    "\n",
    "#Converting these columns to numeric\n",
    "for col in cols_to_numeric:\n",
    "    data_frame[col] = pd.to_numeric(data_frame[col], errors='coerce')\n",
    "\n",
    "#Handling missing values\n",
    "#Droping rows where Date is not NaT\n",
    "data_frame.dropna(subset=['Date'], inplace=True)\n",
    "\n",
    "#Drop rows where any of the numeric columns have NaN values after conversion\n",
    "data_frame.dropna(subset=cols_to_numeric, inplace=True)\n",
    "\n",
    "#Drop rows where crop_type is missing\n",
    "data_frame.dropna(subset=['Crop_Type'], inplace=True)\n",
    "\n",
    "#Data frame info after cleaning\n",
    "print('\\nData frame information after cleaning')\n",
    "data_frame.info()\n",
    "\n",
    "#Descriptive statistics after cleaning\n",
    "print('\\nDataframe Descriptive statistics after cleaning')\n",
    "print(data_frame.describe())\n",
    "\n",
    "print(\"\\nValue counts for Crop_Type after cleaning:\")\n",
    "print(data_frame['Crop_Type'].value_counts())\n",
    "\n",
    "#Saving the cleaned data to a new csv file\n",
    "data_frame.to_csv(\"cleaned_climate_action_data.csv\", index=False)\n",
    "print(\"\\nCleaned data saved to 'cleaned_climate_action_data.csv'\")"
   ]
  },
  {
   "cell_type": "code",
   "execution_count": null,
   "id": "8add5388",
   "metadata": {},
   "outputs": [],
   "source": [
    "import pandas as pd\n",
    "import matplotlib.pyplot as plt\n",
    "import seaborn as sns\n",
    "\n",
    "new_data_frame = pd.read_csv('cleaned_precision_agriculture_data.csv')\n",
    "\n",
    "plt.figure(figsize=(15, 10))\n",
    "\n",
    "#Histograms for numeric variables\n",
    "#  ['Soil_Moisture_Percent', 'Soil_pH','Temperature_Celsius',\n",
    "# 'Humidity_Percent', 'Fertilizer_Recommended_kg_per_ha', 'Irrigation_Recommendation_mm']\n",
    "\n",
    "#Soil_Moisture_Percent\n",
    "plt.subplot(2, 2, 2)\n",
    "sns.histplot(new_data_frame['Soil_Moisture_Percent'], bins=30, kde=True)\n",
    "plt.title('Histogram for Soil_Moisture_Percent')\n",
    "\n",
    "#Soil_pH\n",
    "plt.subplot(2, 2, 1)\n",
    "sns.histplot(new_data_frame['Soil_pH'], bins=30, kde=True)\n",
    "plt.title('Histogram for Soil_pH')\n",
    "\n",
    "#Temperature_Celsius\n",
    "plt.subplot(2, 1, 2)\n",
    "sns.histplot(new_data_frame['Temperature_Celsius'], bins=30, kde=True)\n",
    "plt.title('Histogram for Temperature_Celsius')\n",
    "\n",
    "#Humidity_Percent\n",
    "plt.subplot(1, 2, 2)\n",
    "sns.histplot(new_data_frame['Humidity_Percent'], bins=30, kde=True)\n",
    "plt.title('Histogram for Humidity_Percent')\n",
    "\n",
    "#Fertilizer_Recommended_kg_per_ha\n",
    "plt.subplot(2, 1, 1)\n",
    "sns.histplot(new_data_frame['Fertilizer_Recommended_kg_per_ha'], bins=30, kde=True)\n",
    "plt.title('Histogram for Fertilizer_Recommended_kg_per_ha')\n",
    "\n",
    "#Irrigation_Recommendation_mm\n",
    "plt.subplot(2, 2, 1)\n",
    "sns.histplot(new_data_frame['Irrigation_Recommendation_mm'], bins=30, kde=True)\n",
    "plt.title('Histogram for Irrigation_Recommendation_mm')\n"
   ]
  },
  {
   "cell_type": "code",
   "execution_count": null,
   "id": "2638cf6c",
   "metadata": {},
   "outputs": [],
   "source": [
    "import pandas as pd\n",
    "import matplotlib.pyplot as plt\n",
    "import seaborn as sns\n",
    "\n",
    "new_data_frame = pd.read_csv('cleaned_precision_agriculture_data.csv')\n",
    "\n",
    "# Drop the non-numeric columns for correlation\n",
    "df_numeric = new_data_frame.select_dtypes(include=[\"float64\", \"int64\"])\n",
    "\n",
    "# computing correlation matrix\n",
    "corr = df_numeric.corr()\n",
    "\n",
    "# Plotting the heatmap\n",
    "plt.figure(figsize=(8, 6))\n",
    "sns.heatmap(corr, annot=True, cmap=\"inferno\", fmt=\".2f\", linewidth=0.5)\n",
    "plt.title(\"Correlation heatmap between soil and environmental variables\")\n",
    "plt.show()\n"
   ]
  },
  {
   "cell_type": "code",
   "execution_count": null,
   "id": "3d33a64c",
   "metadata": {},
   "outputs": [
    {
     "name": "stdout",
     "output_type": "stream",
     "text": [
      "Soil_pH                         0.074111\n",
      "Humidity_Percent                0.017732\n",
      "Soil_Moisture_Percent           0.010945\n",
      "Temperature_Celsius             0.001084\n",
      "Irrigation_Recommendation_mm   -0.004874\n",
      "Name: Fertilizer_Recommended_kg_per_ha, dtype: float64\n"
     ]
    }
   ],
   "source": [
    "# Drop the non-numeric columns for correlation\n",
    "df_numeric = new_data_frame.select_dtypes(include=[\"float64\", \"int64\"])\n",
    "# Calculate correlations with fertilizer recommendation\n",
    "correlations = df_numeric.corr()[\"Fertilizer_Recommended_kg_per_ha\"].sort_values(ascending=False)\n",
    "\n",
    "# Show top correlated variables (excluding self-correlation)\n",
    "print(\"\\nHow the variables influence fertilizer recommendation\")\n",
    "print(correlations.drop(\"Fertilizer_Recommended_kg_per_ha\"))"
   ]
  },
  {
   "cell_type": "code",
   "execution_count": 26,
   "id": "21fe8497",
   "metadata": {},
   "outputs": [
    {
     "name": "stdout",
     "output_type": "stream",
     "text": [
      "Crop with highest average soil moisture: Wheat (46.73%)\n"
     ]
    }
   ],
   "source": [
    "# Calculating average soil moisture per crop type\n",
    "avg_soil_moisture = new_data_frame.groupby(\"Crop_Type\")[\"Soil_Moisture_Percent\"].mean().sort_values(ascending=False)\n",
    "\n",
    "# Identify the crop with the highest value\n",
    "top_crop = avg_soil_moisture.idxmax()\n",
    "top_value = avg_soil_moisture.max()\n",
    "\n",
    "print(f\"Crop with highest average soil moisture: {top_crop} ({top_value:.2f}%)\")"
   ]
  },
  {
   "cell_type": "code",
   "execution_count": null,
   "id": "b03bf3b0",
   "metadata": {},
   "outputs": [
    {
     "name": "stdout",
     "output_type": "stream",
     "text": [
      "Crop_Type\n",
      "Beans       18.182258\n",
      "Lettuce     16.483333\n",
      "Maize       16.590476\n",
      "Tomatoes    18.897917\n",
      "Wheat       18.882927\n",
      "Name: Irrigation_Recommendation_mm, dtype: float64\n"
     ]
    }
   ],
   "source": [
    "# Filter crops with avg temperature > 30°C\n",
    "high_temp_df = new_data_frame[new_data_frame[\"Temperature_Celsius\"] > 30]\n",
    "\n",
    "# Average irrigation recommendation for these crops\n",
    "avg_irrigation = high_temp_df.groupby(\"Crop_Type\")[\"Irrigation_Recommendation_mm\"].mean().sort_values(ascending=False)\n",
    "print(\"\\nIrrigation recommendations for crops at temps > 30\")\n",
    "print(avg_irrigation)\n"
   ]
  },
  {
   "cell_type": "code",
   "execution_count": null,
   "id": "e22c65ad",
   "metadata": {},
   "outputs": [],
   "source": [
    "# From my analysis, Soil_pH, Soil_moisture_percent and\n",
    "# Humidity_Percent most influence fertilzer recommendations.\n",
    "\n",
    "# The crop type with the highest average soil moisture\n",
    "#is Wheat with soil_moisture_percent: 46.73%\n",
    "\n",
    "#Irrigation recommendation for each crop at temps > 30\n",
    "#Crop_Type\n",
    "# Beans       18.182258\n",
    "    #I would recommend a slight increase in irrigation.\n",
    "# Lettuce     16.483333\n",
    "     #I would recommend a high increase in irrigation since it is very sensitive to heat.\n",
    "# Maize       16.590476\n",
    "     #I would recommend a slight increase in irrigation especially during reproductive stages.\n",
    "# Tomatoes    18.897917\n",
    "     #I would recommend maintaining the current level of irrigation.\n",
    "# Wheat       18.882927\n",
    "     #I would recommend a slight increase or maintain in irrigation."
   ]
  },
  {
   "cell_type": "markdown",
   "id": "b5ae1cdc",
   "metadata": {},
   "source": [
    "## INSIGHTS AND RECOMMENDATIONS\n",
    "# Variables such as Soil_pH, Soil_moisture_percent and\n",
    "# Humidity_Percent show the strongest correlations with Fertilizer_Recommended_kg_per_ha.\n",
    "    # For example, Soils that have low pH (acidic) may negatively correlate implying more fertilizer needed.\n",
    "    # High soil moisture increase nutrient availability, potentially reducing fertilizer need.\n",
    "# All crops fall between 16.48 mm and 18.90 mm, suggesting that a uniform irrigation approach is being used.\n",
    "\n",
    "# At 16.48 mm, lettuce has the lowest irrigation, despite being highly sensitive to both heat and water stress.\n",
    "    # It may be under-irrigated, especially in >30°C conditions, which can lead to:\n",
    "        # Wilting\n",
    "        # Bolting (premature flowering)\n",
    "        # Reduced yield and quality\n",
    "# Tomatoes top the list with 18.90 mm, which is appropriate under heat stress.\n",
    "\n",
    "# Both cereals crops (Maize, Wheat) are given ~18 mm, which seems high for heat-tolerant, deeper-rooted crops.\n",
    "\n"
   ]
  }
 ],
 "metadata": {
  "kernelspec": {
   "display_name": "Python 3",
   "language": "python",
   "name": "python3"
  },
  "language_info": {
   "codemirror_mode": {
    "name": "ipython",
    "version": 3
   },
   "file_extension": ".py",
   "mimetype": "text/x-python",
   "name": "python",
   "nbconvert_exporter": "python",
   "pygments_lexer": "ipython3",
   "version": "3.12.5"
  }
 },
 "nbformat": 4,
 "nbformat_minor": 5
}
