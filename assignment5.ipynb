{
 "cells": [
  {
   "cell_type": "code",
   "execution_count": null,
   "id": "1c4db23d",
   "metadata": {},
   "outputs": [],
   "source": [
    "import pandas as pd\n",
    "\n",
    "# Loading the dataset into a dataframe\n",
    "data_frame = pd.read_csv('climate_action_data.csv')\n",
    "display(data_frame.head())"
   ]
  },
  {
   "cell_type": "code",
   "execution_count": null,
   "id": "03e33b0f",
   "metadata": {},
   "outputs": [],
   "source": [
    "# Checking for empty cells\n",
    "data_frame.isnull().sum()\n",
    "\n",
    "#Print data frame information\n",
    "print('\\nData frame information before cleaning')\n",
    "data_frame.info()\n"
   ]
  },
  {
   "cell_type": "code",
   "execution_count": null,
   "id": "be8c10da",
   "metadata": {},
   "outputs": [],
   "source": [
    "import pandas as pd\n",
    "import numpy as np\n",
    "\n",
    "#Loading the dataset into a dataframe\n",
    "data_frame = pd.read_csv(\"climate_action_data.csv\")\n",
    "\n",
    "# Rename columns for easier use\n",
    "data_frame.rename(columns={\n",
    "    'Soil_Moisture(%)': 'Soil_Moisture_Percent',\n",
    "    'Soil_pH': 'Soil_pH', # Already fine, but listed for clarity\n",
    "    'Temperature(C)': 'Temperature_Celsius',\n",
    "    'Humidity(%)': 'Humidity_Percent',\n",
    "    'Fertilizer_Recommended(kg/ha)': 'Fertilizer_Recommended_kg_per_ha',\n",
    "    'Irrigation_Recommended(mm)': 'Irrigation_Recommendation_mm'\n",
    "}, inplace=True)\n",
    "\n",
    "#Converting Date column to datetime objects, errors='coerce' turns unparseable dates into NaT\n",
    "data_frame['Date'] = pd.to_datetime(data_frame['Date'], errors='coerce')\n",
    "\n",
    "#These columns are supposed to be numeric but they are non\n",
    "cols_to_numeric = ['Soil_Moisture_Percent', 'Soil_pH','Temperature_Celsius',\n",
    "                  'Humidity_Percent', 'Fertilizer_Recommended_kg_per_ha', 'Irrigation_Recommendation_mm']\n",
    "\n",
    "#Converting these columns to numeric\n",
    "for col in cols_to_numeric:\n",
    "    data_frame[col] = pd.to_numeric(data_frame[col], errors='coerce')\n",
    "\n",
    "#Handling missing values\n",
    "#Droping rows where Date is not NaT\n",
    "data_frame.dropna(subset=['Date'], inplace=True)\n",
    "\n",
    "#Drop rows where any of the numeric columns have NaN values after conversion\n",
    "data_frame.dropna(subset=cols_to_numeric, inplace=True)\n",
    "\n",
    "#Drop rows where crop_type is missing\n",
    "data_frame.dropna(subset=['Crop_Type'], inplace=True)\n",
    "\n",
    "#Data frame info after cleaning\n",
    "print('\\nData frame information after cleaning')\n",
    "data_frame.info()\n",
    "\n",
    "#Descriptive statistics after cleaning\n",
    "print('\\nDataframe Descriptive statistics after cleaning')\n",
    "print(data_frame.describe())\n",
    "\n",
    "print(\"\\nValue counts for Crop_Type after cleaning:\")\n",
    "print(data_frame['Crop_Type'].value_counts())\n",
    "\n",
    "#Saving the cleaned data to a new csv file\n",
    "data_frame.to_csv(\"cleaned_climate_action_data.csv\", index=False)\n",
    "print(\"\\nCleaned data saved to 'cleaned_climate_action_data.csv'\")"
   ]
  }
 ],
 "metadata": {
  "kernelspec": {
   "display_name": "Python 3",
   "language": "python",
   "name": "python3"
  },
  "language_info": {
   "codemirror_mode": {
    "name": "ipython",
    "version": 3
   },
   "file_extension": ".py",
   "mimetype": "text/x-python",
   "name": "python",
   "nbconvert_exporter": "python",
   "pygments_lexer": "ipython3",
   "version": "3.12.5"
  }
 },
 "nbformat": 4,
 "nbformat_minor": 5
}
