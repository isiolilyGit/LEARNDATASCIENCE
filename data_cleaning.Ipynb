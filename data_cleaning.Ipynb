{
 "cells": [
  {
   "cell_type": "code",
   "execution_count": null,
   "id": "faa0eeb6",
   "metadata": {},
   "outputs": [],
   "source": [
    "import pandas as pd\n",
    "#Loading the dataset\n",
    "data = pd.read_csv('data.csv')\n",
    "#Reading 5 records from the csv file\n",
    "data.head(5)\n",
    "data.isnull().sum()"
   ]
  },
  {
   "cell_type": "code",
   "execution_count": null,
   "id": "66b60300",
   "metadata": {},
   "outputs": [],
   "source": [
    "#Filling the empty cells in calories\n",
    "data = data.fillna({'Calories': data['Calories'].mean()})\n",
    "display(data.isnull().sum())\n",
    "display(data)"
   ]
  },
  {
   "cell_type": "code",
   "execution_count": null,
   "id": "b22fe4ca",
   "metadata": {},
   "outputs": [],
   "source": [
    "# Checking for duplicates\n",
    "duplicate_data = data.duplicated()\n",
    "if duplicate_data.any():\n",
    "    print(\"Duplicates found\")\n",
    "    print(data[duplicate_data])\n",
    "\n",
    "else:\n",
    "    print(\"No duplicates found.\")"
   ]
  },
  {
   "cell_type": "code",
   "execution_count": null,
   "id": "fa76cd67",
   "metadata": {},
   "outputs": [],
   "source": [
    "data = data.drop_duplicates(keep='first', inplace=False)\n",
    "\n",
    "display(data)"
   ]
  },
  {
   "cell_type": "code",
   "execution_count": null,
   "id": "2ed71d28",
   "metadata": {},
   "outputs": [],
   "source": [
    "import matplotlib.pyplot as plt\n",
    "import seaborn as sns\n",
    "\n",
    "plt.figure(figsize=(15, 10))\n",
    "\n",
    "#Histogram for Maxpulse\n",
    "plt.subplot(2, 2, 2)\n",
    "sns.histplot(data['Maxpulse'], bins=30, kde=True)\n",
    "plt.title('Histogram for Maxpulse')\n",
    "\n",
    "#Histogram for Calories\n",
    "plt.subplot(2, 2, 1)\n",
    "sns.histplot(data['Calories'], bins=30, kde=True)\n",
    "plt.title('Histogram for Calories')\n"
   ]
  }
 ],
 "metadata": {
  "kernelspec": {
   "display_name": "Python 3",
   "language": "python",
   "name": "python3"
  },
  "language_info": {
   "codemirror_mode": {
    "name": "ipython",
    "version": 3
   },
   "file_extension": ".py",
   "mimetype": "text/x-python",
   "name": "python",
   "nbconvert_exporter": "python",
   "pygments_lexer": "ipython3",
   "version": "3.12.5"
  }
 },
 "nbformat": 4,
 "nbformat_minor": 5
}
